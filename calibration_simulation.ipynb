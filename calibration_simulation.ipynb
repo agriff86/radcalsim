{
 "cells": [
  {
   "cell_type": "markdown",
   "metadata": {},
   "source": [
    "## Calibration simulation\n",
    "\n",
    "This simulates the calibration of an ANSTO two-filter radon detector by injecting radon from a known-activity source into the inlet line, assuming that the ambient radon concentration is zero."
   ]
  },
  {
   "cell_type": "code",
   "execution_count": 1,
   "metadata": {},
   "outputs": [],
   "source": [
    "%matplotlib inline"
   ]
  },
  {
   "cell_type": "code",
   "execution_count": 2,
   "metadata": {},
   "outputs": [],
   "source": [
    "import pandas as pd\n",
    "import numpy as np\n",
    "import matplotlib.pyplot as plt\n",
    "import generated_functions as gf"
   ]
  },
  {
   "cell_type": "code",
   "execution_count": 3,
   "metadata": {},
   "outputs": [],
   "source": [
    "# radon decay constant (/s)\n",
    "lambda_radon = 2.100140526711101e-6"
   ]
  },
  {
   "cell_type": "code",
   "execution_count": 4,
   "metadata": {},
   "outputs": [],
   "source": [
    "# conversion factors\n",
    "lpm_to_m3sec = 1/1000/60"
   ]
  },
  {
   "cell_type": "markdown",
   "metadata": {},
   "source": [
    "*detector-specific parameters, play with these*"
   ]
  },
  {
   "cell_type": "code",
   "execution_count": 5,
   "metadata": {},
   "outputs": [],
   "source": [
    "# internal flow rate (m3/sec)\n",
    "Q = 0.0122\n",
    "# external flow rate (m3/sec)\n",
    "Q_external = 80.0 * lpm_to_m3sec\n",
    "# volume of external delay tank (m3)\n",
    "V_delay = 0.2\n",
    "# volume of internal delay volume (m3)\n",
    "V_tank = 0.7\n",
    "# additional delay (to account for long inlet line from tower etc.)\n",
    "t_delay = 0.0"
   ]
  },
  {
   "cell_type": "markdown",
   "metadata": {},
   "source": [
    "*\"universal\" model parameters, leave these fixed*"
   ]
  },
  {
   "cell_type": "code",
   "execution_count": 6,
   "metadata": {},
   "outputs": [],
   "source": [
    "# screen capture efficiency (0-1)\n",
    "rs = 0.95\n",
    "# internal plateout constant (/s)\n",
    "lamp = 0.005555555555555556\n",
    "# alpha detection efficiency (0-1)\n",
    "# --- note: this is set below, based on \"total_efficiency\"\n",
    "eff = 1\n",
    "# recoil probability (0-1)\n",
    "recoil_prob = 0.025"
   ]
  },
  {
   "cell_type": "markdown",
   "metadata": {},
   "source": [
    "*parameters describing calibration setup (can be adjusted, but main result below is insensitive to everything here except for the calibration duration)*"
   ]
  },
  {
   "cell_type": "code",
   "execution_count": 7,
   "metadata": {},
   "outputs": [],
   "source": [
    "# detector cps per ambient Bq/m3 of radon\n",
    "total_efficiency = 0.15\n",
    "cal_source_strength = 20e3 # kBq\n",
    "cal_begin = 3600.0\n",
    "cal_duration = 3600.0*6\n",
    "# radon Bq/m3 in calibration gas\n",
    "Ncal = cal_source_strength / Q_external * lambda_radon"
   ]
  },
  {
   "cell_type": "code",
   "execution_count": 20,
   "metadata": {},
   "outputs": [
    {
     "name": "stdout",
     "output_type": "stream",
     "text": [
      "0.1438079901237011\n",
      "0.154\n"
     ]
    }
   ],
   "source": [
    "# adjust \"eff\" so that the total efficiency is equal to that \n",
    "# given above\n",
    "sscps_initial = gf.steady_state_count_rate(rs, recoil_prob, V_tank, Q, lamp, eff)\n",
    "eff = eff/sscps_initial*total_efficiency"
   ]
  },
  {
   "cell_type": "code",
   "execution_count": 8,
   "metadata": {},
   "outputs": [],
   "source": [
    "# t - time grid, 1min samples\n",
    "t = np.arange(0,10*3600,60)"
   ]
  },
  {
   "cell_type": "markdown",
   "metadata": {},
   "source": [
    "*calculate the number of radon progeny arriving at internal filter (normalised by radon concentration)*"
   ]
  },
  {
   "cell_type": "code",
   "execution_count": 9,
   "metadata": {},
   "outputs": [],
   "source": [
    "N_af, N_bf = gf.calc_na_nb_factors(Q, lamp, V_tank)"
   ]
  },
  {
   "cell_type": "markdown",
   "metadata": {},
   "source": [
    "*calculate the total number of counts detected since t = 0*"
   ]
  },
  {
   "cell_type": "code",
   "execution_count": 10,
   "metadata": {},
   "outputs": [],
   "source": [
    "tc = gf.tc_integral_calibration(Ncal, rs, recoil_prob, V_tank, Q, cal_begin, N_bf, N_af, t, Q_external, eff, cal_duration)"
   ]
  },
  {
   "cell_type": "markdown",
   "metadata": {},
   "source": [
    "*calculate count rate expected at steady-state*"
   ]
  },
  {
   "cell_type": "code",
   "execution_count": 11,
   "metadata": {},
   "outputs": [],
   "source": [
    "sscps = gf.steady_state_count_rate(rs, recoil_prob, V_tank, Q, lamp, eff) * Ncal"
   ]
  },
  {
   "cell_type": "code",
   "execution_count": 12,
   "metadata": {},
   "outputs": [
    {
     "data": {
      "image/png": "[encoded data removed]",
      "text/plain": [
       "<Figure size 432x288 with 1 Axes>"
      ]
     },
     "metadata": {
      "needs_background": "light"
     },
     "output_type": "display_data"
    }
   ],
   "source": [
    "fig, ax = plt.subplots()\n",
    "ax.plot(t/3600., tc)\n",
    "ax.set_xlabel('Time (hours)')\n",
    "ax.set_ylabel('Total counts');"
   ]
  },
  {
   "cell_type": "code",
   "execution_count": 13,
   "metadata": {},
   "outputs": [
    {
     "data": {
      "image/png": "[encoded data removed]",
      "text/plain": [
       "<Figure size 432x288 with 1 Axes>"
      ]
     },
     "metadata": {
      "needs_background": "light"
     },
     "output_type": "display_data"
    }
   ],
   "source": [
    "fig, ax = plt.subplots()\n",
    "ax.plot(t[1:]/3600., np.diff(tc)/np.diff(t))\n",
    "ax.set_xlabel('Time (hours)')\n",
    "ax.set_ylabel('Instantaneous count rate (/s)');"
   ]
  },
  {
   "cell_type": "code",
   "execution_count": 14,
   "metadata": {},
   "outputs": [],
   "source": [
    "df = pd.DataFrame({'total_counts': tc}, index=t.astype(int))"
   ]
  },
  {
   "cell_type": "markdown",
   "metadata": {},
   "source": [
    "## Report counts/expected counts\n",
    "\n",
    "This code looks up the total counts recorded by the detector over each hour since the calibration begun, and the compares this to the expected steady-state count rate."
   ]
  },
  {
   "cell_type": "code",
   "execution_count": 15,
   "metadata": {},
   "outputs": [
    {
     "data": {
      "text/html": [
       "<div>\n",
       "<style scoped>\n",
       "    .dataframe tbody tr th:only-of-type {\n",
       "        vertical-align: middle;\n",
       "    }\n",
       "\n",
       "    .dataframe tbody tr th {\n",
       "        vertical-align: top;\n",
       "    }\n",
       "\n",
       "    .dataframe thead th {\n",
       "        text-align: right;\n",
       "    }\n",
       "</style>\n",
       "<table border=\"1\" class=\"dataframe\">\n",
       "  <thead>\n",
       "    <tr style=\"text-align: right;\">\n",
       "      <th></th>\n",
       "      <th>interval_start</th>\n",
       "      <th>interval_stop</th>\n",
       "      <th>counts_during_interval</th>\n",
       "      <th>steady_state_divided_by_actual_count_rate</th>\n",
       "    </tr>\n",
       "  </thead>\n",
       "  <tbody>\n",
       "    <tr>\n",
       "      <td>0</td>\n",
       "      <td>0.0</td>\n",
       "      <td>3600.0</td>\n",
       "      <td>2436.184492</td>\n",
       "      <td>2.220217</td>\n",
       "    </tr>\n",
       "    <tr>\n",
       "      <td>1</td>\n",
       "      <td>3600.0</td>\n",
       "      <td>7200.0</td>\n",
       "      <td>4417.942904</td>\n",
       "      <td>1.224294</td>\n",
       "    </tr>\n",
       "    <tr>\n",
       "      <td>2</td>\n",
       "      <td>7200.0</td>\n",
       "      <td>10800.0</td>\n",
       "      <td>5137.125519</td>\n",
       "      <td>1.052896</td>\n",
       "    </tr>\n",
       "    <tr>\n",
       "      <td>3</td>\n",
       "      <td>10800.0</td>\n",
       "      <td>14400.0</td>\n",
       "      <td>5343.621365</td>\n",
       "      <td>1.012208</td>\n",
       "    </tr>\n",
       "    <tr>\n",
       "      <td>4</td>\n",
       "      <td>14400.0</td>\n",
       "      <td>18000.0</td>\n",
       "      <td>5394.089076</td>\n",
       "      <td>1.002738</td>\n",
       "    </tr>\n",
       "    <tr>\n",
       "      <td>5</td>\n",
       "      <td>18000.0</td>\n",
       "      <td>21600.0</td>\n",
       "      <td>5405.612437</td>\n",
       "      <td>1.000601</td>\n",
       "    </tr>\n",
       "  </tbody>\n",
       "</table>\n",
       "</div>"
      ],
      "text/plain": [
       "   interval_start  interval_stop  counts_during_interval  \\\n",
       "0             0.0         3600.0             2436.184492   \n",
       "1          3600.0         7200.0             4417.942904   \n",
       "2          7200.0        10800.0             5137.125519   \n",
       "3         10800.0        14400.0             5343.621365   \n",
       "4         14400.0        18000.0             5394.089076   \n",
       "5         18000.0        21600.0             5405.612437   \n",
       "\n",
       "   steady_state_divided_by_actual_count_rate  \n",
       "0                                   2.220217  \n",
       "1                                   1.224294  \n",
       "2                                   1.052896  \n",
       "3                                   1.012208  \n",
       "4                                   1.002738  \n",
       "5                                   1.000601  "
      ]
     },
     "execution_count": 15,
     "metadata": {},
     "output_type": "execute_result"
    }
   ],
   "source": [
    "results_list = []\n",
    "\n",
    "for ii in range(int(cal_duration/3600.0)):\n",
    "    t0 = int(ii*3600.0 + cal_begin)\n",
    "    t1 = int((ii+1)*3600.0 + cal_begin)\n",
    "    counts_during_interval = (df.loc[t1] - df.loc[t0]).values[0]\n",
    "    average_count_rate_during_interval = counts_during_interval / 3600.0\n",
    "    \n",
    "    dfr = pd.DataFrame({'interval_start': [t0-cal_begin], \n",
    "                        'interval_stop': [t1-cal_begin],\n",
    "                        'counts_during_interval': [counts_during_interval],\n",
    "                        'steady_state_divided_by_actual_count_rate': \n",
    "                        [sscps / average_count_rate_during_interval]})\n",
    "    results_list.append(dfr)\n",
    "    \n",
    "dfr = pd.concat(results_list, ignore_index=True)\n",
    "dfr"
   ]
  },
  {
   "cell_type": "code",
   "execution_count": null,
   "metadata": {},
   "outputs": [],
   "source": []
  }
 ],
 "metadata": {
  "kernelspec": {
   "display_name": "Python [default]",
   "language": "python",
   "name": "python3"
  },
  "language_info": {
   "codemirror_mode": {
    "name": "ipython",
    "version": 3
   },
   "file_extension": ".py",
   "mimetype": "text/x-python",
   "name": "python",
   "nbconvert_exporter": "python",
   "pygments_lexer": "ipython3",
   "version": "3.6.4"
  }
 },
 "nbformat": 4,
 "nbformat_minor": 2
}
