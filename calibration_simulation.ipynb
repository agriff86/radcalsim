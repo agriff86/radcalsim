{
 "cells": [
  {
   "cell_type": "markdown",
   "metadata": {},
   "source": [
    "## Calibration simulation\n",
    "\n",
    "This simulates the calibration of an ANSTO two-filter radon detector by injecting radon from a known-activity source into the inlet line, assuming that the ambient radon concentration is zero."
   ]
  },
  {
   "cell_type": "code",
   "execution_count": 1,
   "metadata": {},
   "outputs": [],
   "source": [
    "%matplotlib inline"
   ]
  },
  {
   "cell_type": "code",
   "execution_count": 2,
   "metadata": {},
   "outputs": [],
   "source": [
    "import pandas as pd\n",
    "import numpy as np\n",
    "import matplotlib.pyplot as plt\n",
    "import generated_functions as gf"
   ]
  },
  {
   "cell_type": "code",
   "execution_count": 3,
   "metadata": {},
   "outputs": [],
   "source": [
    "# radon decay constant (/s)\n",
    "lambda_radon = 2.100140526711101e-6"
   ]
  },
  {
   "cell_type": "code",
   "execution_count": 4,
   "metadata": {},
   "outputs": [],
   "source": [
    "# conversion factors\n",
    "lpm_to_m3sec = 1/1000/60"
   ]
  },
  {
   "cell_type": "markdown",
   "metadata": {},
   "source": [
    "*detector-specific parameters, play with these*"
   ]
  },
  {
   "cell_type": "code",
   "execution_count": 5,
   "metadata": {},
   "outputs": [],
   "source": [
    "# internal flow rate (m3/sec)\n",
    "Q = 0.0122\n",
    "# external flow rate (m3/sec)\n",
    "Q_external = 70.0 * lpm_to_m3sec\n",
    "# volume of external delay tank (m3)\n",
    "### - set this to zero if calibration source is injected\n",
    "###   downstream of external delay tank\n",
    "V_delay = 0.0\n",
    "# volume of internal delay volume (m3)\n",
    "V_tank = 1.5\n",
    "# additional delay (to account for long inlet line from tower etc.)\n",
    "t_delay = 0.0"
   ]
  },
  {
   "cell_type": "markdown",
   "metadata": {},
   "source": [
    "*leave these model parameters fixed, they should apply to most installations*"
   ]
  },
  {
   "cell_type": "code",
   "execution_count": 6,
   "metadata": {},
   "outputs": [],
   "source": [
    "# screen capture efficiency (0-1)\n",
    "rs = 0.95\n",
    "# internal plateout constant (/s)\n",
    "lamp = 0.005555555555555556\n",
    "# alpha detection efficiency (0-1)\n",
    "# --- note: this is set below, based on \"total_efficiency\"\n",
    "eff = 1\n",
    "# recoil probability (0-1)\n",
    "recoil_prob = 0.025"
   ]
  },
  {
   "cell_type": "markdown",
   "metadata": {},
   "source": [
    "*parameters describing calibration setup (can be adjusted, but main result below is insensitive to everything here except for the calibration duration)*"
   ]
  },
  {
   "cell_type": "code",
   "execution_count": 7,
   "metadata": {},
   "outputs": [],
   "source": [
    "# detector cps per ambient Bq/m3 of radon\n",
    "total_efficiency = 0.15\n",
    "cal_source_strength = 20e3 # kBq\n",
    "cal_begin = 3600.0\n",
    "cal_duration = 3600.0*6\n",
    "# radon Bq/m3 in calibration gas\n",
    "Ncal = cal_source_strength / Q_external * lambda_radon"
   ]
  },
  {
   "cell_type": "code",
   "execution_count": 8,
   "metadata": {},
   "outputs": [],
   "source": [
    "# adjust \"eff\" so that the total efficiency is equal to that \n",
    "# given above\n",
    "sscps_initial = gf.steady_state_count_rate(rs, recoil_prob, V_tank, Q, lamp, eff)\n",
    "eff = eff/sscps_initial*total_efficiency"
   ]
  },
  {
   "cell_type": "code",
   "execution_count": 9,
   "metadata": {},
   "outputs": [],
   "source": [
    "# t - time grid, 1min samples\n",
    "t = np.arange(0,10*3600,60)"
   ]
  },
  {
   "cell_type": "markdown",
   "metadata": {},
   "source": [
    "*calculate the number of radon progeny arriving at internal filter (normalised by radon concentration)*"
   ]
  },
  {
   "cell_type": "code",
   "execution_count": 10,
   "metadata": {},
   "outputs": [],
   "source": [
    "N_af, N_bf = gf.calc_na_nb_factors(Q, lamp, V_tank)"
   ]
  },
  {
   "cell_type": "markdown",
   "metadata": {},
   "source": [
    "*calculate the total number of counts detected since t = 0*"
   ]
  },
  {
   "cell_type": "code",
   "execution_count": 11,
   "metadata": {},
   "outputs": [],
   "source": [
    "tc = gf.tc_integral_calibration(Ncal, rs, recoil_prob, V_tank, Q, cal_begin, N_bf, N_af, t, Q_external, eff, cal_duration)"
   ]
  },
  {
   "cell_type": "markdown",
   "metadata": {},
   "source": [
    "*calculate count rate expected at steady-state*"
   ]
  },
  {
   "cell_type": "code",
   "execution_count": 12,
   "metadata": {},
   "outputs": [],
   "source": [
    "sscps = gf.steady_state_count_rate(rs, recoil_prob, V_tank, Q, lamp, eff) * Ncal"
   ]
  },
  {
   "cell_type": "code",
   "execution_count": 13,
   "metadata": {},
   "outputs": [
    {
     "data": {
      "image/png": "[encoded data removed]",
      "text/plain": [
       "<matplotlib.figure.Figure at 0x7f5a078db2b0>"
      ]
     },
     "metadata": {},
     "output_type": "display_data"
    }
   ],
   "source": [
    "fig, ax = plt.subplots()\n",
    "ax.plot(t/3600., tc)\n",
    "ax.set_xlabel('Time (hours)')\n",
    "ax.set_ylabel('Total counts');"
   ]
  },
  {
   "cell_type": "code",
   "execution_count": 14,
   "metadata": {},
   "outputs": [
    {
     "data": {
      "image/png": "[encoded data removed]",
      "text/plain": [
       "<matplotlib.figure.Figure at 0x7f5a05678ac8>"
      ]
     },
     "metadata": {},
     "output_type": "display_data"
    }
   ],
   "source": [
    "fig, ax = plt.subplots()\n",
    "ax.plot(t[1:]/3600., np.diff(tc)/np.diff(t))\n",
    "ax.set_xlabel('Time (hours)')\n",
    "ax.set_ylabel('Instantaneous count rate (/s)');"
   ]
  },
  {
   "cell_type": "code",
   "execution_count": 15,
   "metadata": {},
   "outputs": [],
   "source": [
    "df = pd.DataFrame({'total_counts': tc}, index=t.astype(int))"
   ]
  },
  {
   "cell_type": "markdown",
   "metadata": {},
   "source": [
    "## Report counts/expected counts\n",
    "\n",
    "This code looks up the total counts recorded by the detector over each hour since the calibration begun, and the compares this to the expected steady-state count rate."
   ]
  },
  {
   "cell_type": "code",
   "execution_count": 16,
   "metadata": {},
   "outputs": [
    {
     "data": {
      "text/html": [
       "<div>\n",
       "<style scoped>\n",
       "    .dataframe tbody tr th:only-of-type {\n",
       "        vertical-align: middle;\n",
       "    }\n",
       "\n",
       "    .dataframe tbody tr th {\n",
       "        vertical-align: top;\n",
       "    }\n",
       "\n",
       "    .dataframe thead th {\n",
       "        text-align: right;\n",
       "    }\n",
       "</style>\n",
       "<table border=\"1\" class=\"dataframe\">\n",
       "  <thead>\n",
       "    <tr style=\"text-align: right;\">\n",
       "      <th></th>\n",
       "      <th>counts_during_interval</th>\n",
       "      <th>interval_start_sec</th>\n",
       "      <th>interval_stop_sec</th>\n",
       "      <th>steady_state_divided_by_actual_count_rate</th>\n",
       "    </tr>\n",
       "  </thead>\n",
       "  <tbody>\n",
       "    <tr>\n",
       "      <th>0</th>\n",
       "      <td>6332.834318</td>\n",
       "      <td>0.0</td>\n",
       "      <td>3600.0</td>\n",
       "      <td>3.069921</td>\n",
       "    </tr>\n",
       "    <tr>\n",
       "      <th>1</th>\n",
       "      <td>14467.222689</td>\n",
       "      <td>3600.0</td>\n",
       "      <td>7200.0</td>\n",
       "      <td>1.343817</td>\n",
       "    </tr>\n",
       "    <tr>\n",
       "      <th>2</th>\n",
       "      <td>17935.393399</td>\n",
       "      <td>7200.0</td>\n",
       "      <td>10800.0</td>\n",
       "      <td>1.083963</td>\n",
       "    </tr>\n",
       "    <tr>\n",
       "      <th>3</th>\n",
       "      <td>19055.092660</td>\n",
       "      <td>10800.0</td>\n",
       "      <td>14400.0</td>\n",
       "      <td>1.020268</td>\n",
       "    </tr>\n",
       "    <tr>\n",
       "      <th>4</th>\n",
       "      <td>19350.486404</td>\n",
       "      <td>14400.0</td>\n",
       "      <td>18000.0</td>\n",
       "      <td>1.004693</td>\n",
       "    </tr>\n",
       "    <tr>\n",
       "      <th>5</th>\n",
       "      <td>19420.906923</td>\n",
       "      <td>18000.0</td>\n",
       "      <td>21600.0</td>\n",
       "      <td>1.001050</td>\n",
       "    </tr>\n",
       "  </tbody>\n",
       "</table>\n",
       "</div>"
      ],
      "text/plain": [
       "   counts_during_interval  interval_start_sec  interval_stop_sec  \\\n",
       "0             6332.834318                 0.0             3600.0   \n",
       "1            14467.222689              3600.0             7200.0   \n",
       "2            17935.393399              7200.0            10800.0   \n",
       "3            19055.092660             10800.0            14400.0   \n",
       "4            19350.486404             14400.0            18000.0   \n",
       "5            19420.906923             18000.0            21600.0   \n",
       "\n",
       "   steady_state_divided_by_actual_count_rate  \n",
       "0                                   3.069921  \n",
       "1                                   1.343817  \n",
       "2                                   1.083963  \n",
       "3                                   1.020268  \n",
       "4                                   1.004693  \n",
       "5                                   1.001050  "
      ]
     },
     "execution_count": 16,
     "metadata": {},
     "output_type": "execute_result"
    }
   ],
   "source": [
    "results_list = []\n",
    "\n",
    "N_cal_hours = int(cal_duration/3600.0)\n",
    "for ii in range(N_cal_hours):\n",
    "    t0 = int(ii*3600.0 + cal_begin)\n",
    "    t1 = int((ii+1)*3600.0 + cal_begin)\n",
    "    counts_during_interval = (df.loc[t1] - df.loc[t0]).values[0]\n",
    "    average_count_rate_during_interval = counts_during_interval / 3600.0\n",
    "    \n",
    "    dfr = pd.DataFrame({'interval_start_sec': [t0-cal_begin], \n",
    "                        'interval_stop_sec': [t1-cal_begin],\n",
    "                        'counts_during_interval': [counts_during_interval],\n",
    "                        'steady_state_divided_by_actual_count_rate': \n",
    "                        [sscps / average_count_rate_during_interval]})\n",
    "    results_list.append(dfr)\n",
    "    \n",
    "dfr = pd.concat(results_list, ignore_index=True)\n",
    "dfr"
   ]
  },
  {
   "cell_type": "code",
   "execution_count": 17,
   "metadata": {},
   "outputs": [
    {
     "data": {
      "text/html": [
       "<div>\n",
       "<style scoped>\n",
       "    .dataframe tbody tr th:only-of-type {\n",
       "        vertical-align: middle;\n",
       "    }\n",
       "\n",
       "    .dataframe tbody tr th {\n",
       "        vertical-align: top;\n",
       "    }\n",
       "\n",
       "    .dataframe thead th {\n",
       "        text-align: right;\n",
       "    }\n",
       "</style>\n",
       "<table border=\"1\" class=\"dataframe\">\n",
       "  <thead>\n",
       "    <tr style=\"text-align: right;\">\n",
       "      <th></th>\n",
       "      <th>total_counts</th>\n",
       "      <th>count_rate</th>\n",
       "      <th>steady_state_divided_by_actual_count_rate</th>\n",
       "    </tr>\n",
       "    <tr>\n",
       "      <th>interval_end_time</th>\n",
       "      <th></th>\n",
       "      <th></th>\n",
       "      <th></th>\n",
       "    </tr>\n",
       "  </thead>\n",
       "  <tbody>\n",
       "    <tr>\n",
       "      <th>0</th>\n",
       "      <td>-0.000000</td>\n",
       "      <td>NaN</td>\n",
       "      <td>NaN</td>\n",
       "    </tr>\n",
       "    <tr>\n",
       "      <th>3600</th>\n",
       "      <td>6332.834318</td>\n",
       "      <td>1.759121</td>\n",
       "      <td>3.069921</td>\n",
       "    </tr>\n",
       "    <tr>\n",
       "      <th>7200</th>\n",
       "      <td>20800.057007</td>\n",
       "      <td>4.018673</td>\n",
       "      <td>1.343817</td>\n",
       "    </tr>\n",
       "    <tr>\n",
       "      <th>10800</th>\n",
       "      <td>38735.450407</td>\n",
       "      <td>4.982054</td>\n",
       "      <td>1.083963</td>\n",
       "    </tr>\n",
       "    <tr>\n",
       "      <th>14400</th>\n",
       "      <td>57790.543067</td>\n",
       "      <td>5.293081</td>\n",
       "      <td>1.020268</td>\n",
       "    </tr>\n",
       "    <tr>\n",
       "      <th>18000</th>\n",
       "      <td>77141.029471</td>\n",
       "      <td>5.375135</td>\n",
       "      <td>1.004693</td>\n",
       "    </tr>\n",
       "    <tr>\n",
       "      <th>21600</th>\n",
       "      <td>96561.936394</td>\n",
       "      <td>5.394696</td>\n",
       "      <td>1.001050</td>\n",
       "    </tr>\n",
       "  </tbody>\n",
       "</table>\n",
       "</div>"
      ],
      "text/plain": [
       "                   total_counts  count_rate  \\\n",
       "interval_end_time                             \n",
       "0                     -0.000000         NaN   \n",
       "3600                6332.834318    1.759121   \n",
       "7200               20800.057007    4.018673   \n",
       "10800              38735.450407    4.982054   \n",
       "14400              57790.543067    5.293081   \n",
       "18000              77141.029471    5.375135   \n",
       "21600              96561.936394    5.394696   \n",
       "\n",
       "                   steady_state_divided_by_actual_count_rate  \n",
       "interval_end_time                                             \n",
       "0                                                        NaN  \n",
       "3600                                                3.069921  \n",
       "7200                                                1.343817  \n",
       "10800                                               1.083963  \n",
       "14400                                               1.020268  \n",
       "18000                                               1.004693  \n",
       "21600                                               1.001050  "
      ]
     },
     "execution_count": 17,
     "metadata": {},
     "output_type": "execute_result"
    },
    {
     "data": {
      "image/png": "[encoded data removed]",
      "text/plain": [
       "<matplotlib.figure.Figure at 0x7f5a4c7016a0>"
      ]
     },
     "metadata": {},
     "output_type": "display_data"
    }
   ],
   "source": [
    "# crosscheck - another way of generating the same table\n",
    "# subset: the period when radon injection was active\n",
    "df_cal = df.loc[int(cal_begin):int(cal_begin+cal_duration)]\n",
    "# index time from stat of cal\n",
    "df_cal.index -= int(cal_begin)\n",
    "# take values on the hour\n",
    "df_cal = df_cal.loc[np.arange(int(cal_duration/3600.0)+1)*3600].copy()\n",
    "# average count rate per hour\n",
    "df_cal['count_rate'] = df_cal['total_counts'].diff() / 3600.\n",
    "df_cal['steady_state_divided_by_actual_count_rate'] = sscps / df_cal['count_rate']\n",
    "df_cal.steady_state_divided_by_actual_count_rate\n",
    "df_cal.index.name = 'interval_end_time'\n",
    "df_cal"
   ]
  }
 ],
 "metadata": {
  "kernelspec": {
   "display_name": "Python [default]",
   "language": "python",
   "name": "python3"
  },
  "language_info": {
   "codemirror_mode": {
    "name": "ipython",
    "version": 3
   },
   "file_extension": ".py",
   "mimetype": "text/x-python",
   "name": "python",
   "nbconvert_exporter": "python",
   "pygments_lexer": "ipython3",
   "version": "3.6.4"
  }
 },
 "nbformat": 4,
 "nbformat_minor": 2
}
